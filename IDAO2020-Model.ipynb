{
 "cells": [
  {
   "cell_type": "markdown",
   "metadata": {},
   "source": [
    "# TRAINING AND TUNING MODEL"
   ]
  },
  {
   "cell_type": "code",
   "execution_count": 1,
   "metadata": {},
   "outputs": [],
   "source": [
    "import pandas as pd\n",
    "import numpy as np\n",
    "from sklearn import neighbors\n",
    "from sklearn.tree import DecisionTreeRegressor\n",
    "from sklearn.model_selection import train_test_split, cross_val_score, GridSearchCV\n",
    "from sklearn.ensemble import RandomForestRegressor\n",
    "from sklearn.neighbors import KNeighborsRegressor, KNeighborsClassifier\n",
    "from sklearn.multioutput import MultiOutputRegressor\n",
    "import joblib\n",
    "import seaborn as sns\n",
    "import matplotlib"
   ]
  },
  {
   "cell_type": "code",
   "execution_count": 2,
   "metadata": {},
   "outputs": [],
   "source": [
    "train_data=pd.read_csv('train.csv')"
   ]
  },
  {
   "cell_type": "code",
   "execution_count": 3,
   "metadata": {},
   "outputs": [],
   "source": [
    "data=train_data[['sat_id', 'epoch', 'x_sim','x', 'y_sim', 'y', 'z_sim', 'z', 'Vx_sim', 'Vx', 'Vy_sim', 'Vy', 'Vz_sim','Vz']]\n",
    "data['xdelta']=data['x']-data['x_sim']\n",
    "data['ydelta']=data['y']-data['y_sim']\n",
    "data['zdelta']=data['z']-data['z_sim']\n",
    "data['Vxdelta']=data['Vx']-data['Vx_sim']\n",
    "data['Vydelta']=data['Vy']-data['Vy_sim']\n",
    "data['Vzdelta']=data['Vz']-data['Vz_sim']\n",
    "X=data[['x_sim', 'y_sim', 'z_sim', 'Vx_sim', 'Vy_sim', 'Vz_sim']]\n",
    "y=data[['xdelta', 'ydelta', 'zdelta', 'Vxdelta', 'Vydelta', 'Vzdelta']]"
   ]
  },
  {
   "cell_type": "code",
   "execution_count": 4,
   "metadata": {},
   "outputs": [],
   "source": [
    "X_train, X_valid, y_train, y_valid=train_test_split(X,y, train_size=0.99, random_state=0)"
   ]
  },
  {
   "cell_type": "code",
   "execution_count": 5,
   "metadata": {
    "scrolled": true
   },
   "outputs": [
    {
     "data": {
      "text/plain": [
       "KNeighborsRegressor(algorithm='auto', leaf_size=30, metric='minkowski',\n",
       "                    metric_params=None, n_jobs=8, n_neighbors=1, p=2,\n",
       "                    weights='uniform')"
      ]
     },
     "execution_count": 5,
     "metadata": {},
     "output_type": "execute_result"
    }
   ],
   "source": [
    "model=KNeighborsRegressor(n_neighbors=1, n_jobs=8)\n",
    "#Training model\n",
    "model.fit(X_train, y_train)"
   ]
  },
  {
   "cell_type": "code",
   "execution_count": 6,
   "metadata": {},
   "outputs": [
    {
     "data": {
      "text/plain": [
       "['finalized_model.sav']"
      ]
     },
     "execution_count": 6,
     "metadata": {},
     "output_type": "execute_result"
    }
   ],
   "source": [
    "#Save model in file\n",
    "filename = 'finalized_model.sav'\n",
    "joblib.dump(model, filename)"
   ]
  },
  {
   "cell_type": "markdown",
   "metadata": {},
   "source": [
    "# MAKE PREDICTION FOR SUBMISSION"
   ]
  },
  {
   "cell_type": "code",
   "execution_count": 7,
   "metadata": {},
   "outputs": [],
   "source": [
    "test=pd.read_csv('test.csv')"
   ]
  },
  {
   "cell_type": "code",
   "execution_count": 8,
   "metadata": {},
   "outputs": [],
   "source": [
    "test_data=test[['id','sat_id', 'x_sim', 'y_sim', 'z_sim', 'Vx_sim', 'Vy_sim', 'Vz_sim']]\n",
    "test_data=pd.DataFrame(test_data)\n",
    "X_test=test_data[['x_sim', 'y_sim', 'z_sim', 'Vx_sim', 'Vy_sim', 'Vz_sim']]"
   ]
  },
  {
   "cell_type": "code",
   "execution_count": 9,
   "metadata": {},
   "outputs": [],
   "source": [
    "filename = 'finalized_model.sav'\n",
    "loaded_model = joblib.load(filename)\n",
    "predicted = loaded_model.predict(X_test)"
   ]
  },
  {
   "cell_type": "code",
   "execution_count": 10,
   "metadata": {},
   "outputs": [],
   "source": [
    "predicted=pd.DataFrame(predicted).rename(columns={0:\"x\", 1:\"y\",2:\"z\",3:\"Vx\", 4:\"Vy\",5:\"Vz\"})"
   ]
  },
  {
   "cell_type": "code",
   "execution_count": 11,
   "metadata": {},
   "outputs": [],
   "source": [
    "submission=pd.DataFrame(columns=['id', 'x', 'y', 'z', 'Vx', 'Vy', 'Vz'])\n",
    "submission.loc[:,'id']=test.loc[:,'id']\n",
    "submission.loc[:,'x']=test.loc[:,'x_sim']\n",
    "submission.loc[:,'y']=test.loc[:,'y_sim']\n",
    "submission.loc[:,'z']=test.loc[:,'z_sim']\n",
    "submission.loc[:,'Vx']=test.loc[:,'Vx_sim']\n",
    "submission.loc[:,'Vy']=test.loc[:,'Vy_sim']\n",
    "submission.loc[:,'Vz']=test.loc[:,'Vz_sim']\n",
    "submission['x']=submission['x']+1.33*predicted['x']\n",
    "submission['y']=submission['y']+1.33*predicted['y']\n",
    "submission['z']=submission['z']+1.33*predicted['z']\n",
    "submission['Vx']=submission['Vx']+1.33*predicted['Vx']\n",
    "submission['Vy']=submission['Vy']+1.33*predicted['Vy']\n",
    "submission['Vz']=submission['Vz']+1.33*predicted['Vz']\n",
    "submission=submission[['id', 'x', 'y', 'z', 'Vx', 'Vy', 'Vz']]\n",
    "submission.to_csv(\"submission.csv\", index=False)"
   ]
  }
 ],
 "metadata": {
  "kernelspec": {
   "display_name": "Python 3",
   "language": "python",
   "name": "python3"
  },
  "language_info": {
   "codemirror_mode": {
    "name": "ipython",
    "version": 3
   },
   "file_extension": ".py",
   "mimetype": "text/x-python",
   "name": "python",
   "nbconvert_exporter": "python",
   "pygments_lexer": "ipython3",
   "version": "3.7.3"
  }
 },
 "nbformat": 4,
 "nbformat_minor": 2
}
